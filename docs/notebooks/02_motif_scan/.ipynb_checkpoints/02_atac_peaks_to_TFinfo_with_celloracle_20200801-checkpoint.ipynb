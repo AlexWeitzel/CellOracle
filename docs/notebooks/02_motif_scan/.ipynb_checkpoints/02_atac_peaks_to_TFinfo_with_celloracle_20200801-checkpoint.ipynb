{
 "cells": [
  {
   "cell_type": "markdown",
   "metadata": {},
   "source": [
    "# 0. Import libraries"
   ]
  },
  {
   "cell_type": "code",
   "execution_count": 1,
   "metadata": {},
   "outputs": [],
   "source": [
    "import pandas as pd\n",
    "import numpy as np\n",
    "import matplotlib.pyplot as plt\n",
    "\n",
    "\n",
    "import seaborn as sns\n",
    "\n",
    "import os, sys, shutil, importlib, glob\n",
    "from tqdm.notebook import tqdm"
   ]
  },
  {
   "cell_type": "code",
   "execution_count": 2,
   "metadata": {},
   "outputs": [],
   "source": [
    "from celloracle import motif_analysis as ma\n",
    "from celloracle.utility import save_as_pickled_object\n"
   ]
  },
  {
   "cell_type": "code",
   "execution_count": 3,
   "metadata": {},
   "outputs": [
    {
     "name": "stdout",
     "output_type": "stream",
     "text": [
      "celloracle version:  0.5.0\n",
      "gimmemotifs version:  0.14.4\n",
      "genomepy version:  0.8.4\n"
     ]
    }
   ],
   "source": [
    "# Version check\n",
    "from celloracle import __version__ as co_version\n",
    "from gimmemotifs import __version__ as gm_version\n",
    "from genomepy import __version__ as gp_version\n",
    "\n",
    "print(\"celloracle version: \", co_version)\n",
    "print(\"gimmemotifs version: \", gm_version)\n",
    "print(\"genomepy version: \", gp_version)"
   ]
  },
  {
   "cell_type": "markdown",
   "metadata": {},
   "source": [
    "# 1. Load data\n"
   ]
  },
  {
   "cell_type": "code",
   "execution_count": 4,
   "metadata": {},
   "outputs": [
    {
     "data": {
      "text/html": [
       "<div>\n",
       "<style scoped>\n",
       "    .dataframe tbody tr th:only-of-type {\n",
       "        vertical-align: middle;\n",
       "    }\n",
       "\n",
       "    .dataframe tbody tr th {\n",
       "        vertical-align: top;\n",
       "    }\n",
       "\n",
       "    .dataframe thead th {\n",
       "        text-align: right;\n",
       "    }\n",
       "</style>\n",
       "<table border=\"1\" class=\"dataframe\">\n",
       "  <thead>\n",
       "    <tr style=\"text-align: right;\">\n",
       "      <th></th>\n",
       "      <th>peak_id</th>\n",
       "      <th>gene_short_name</th>\n",
       "    </tr>\n",
       "  </thead>\n",
       "  <tbody>\n",
       "    <tr>\n",
       "      <th>0</th>\n",
       "      <td>chr10_100015291_100017830</td>\n",
       "      <td>Kitl</td>\n",
       "    </tr>\n",
       "    <tr>\n",
       "      <th>1</th>\n",
       "      <td>chr10_100486534_100488209</td>\n",
       "      <td>Tmtc3</td>\n",
       "    </tr>\n",
       "    <tr>\n",
       "      <th>2</th>\n",
       "      <td>chr10_100588641_100589556</td>\n",
       "      <td>4930430F08Rik</td>\n",
       "    </tr>\n",
       "    <tr>\n",
       "      <th>3</th>\n",
       "      <td>chr10_100741247_100742505</td>\n",
       "      <td>Gm35722</td>\n",
       "    </tr>\n",
       "    <tr>\n",
       "      <th>4</th>\n",
       "      <td>chr10_101681379_101682124</td>\n",
       "      <td>Mgat4c</td>\n",
       "    </tr>\n",
       "  </tbody>\n",
       "</table>\n",
       "</div>"
      ],
      "text/plain": [
       "                     peak_id gene_short_name\n",
       "0  chr10_100015291_100017830            Kitl\n",
       "1  chr10_100486534_100488209           Tmtc3\n",
       "2  chr10_100588641_100589556   4930430F08Rik\n",
       "3  chr10_100741247_100742505         Gm35722\n",
       "4  chr10_101681379_101682124          Mgat4c"
      ]
     },
     "execution_count": 4,
     "metadata": {},
     "output_type": "execute_result"
    }
   ],
   "source": [
    "# Load annotated peak data.\n",
    "peaks = pd.read_parquet(\"../01_ATAC-seq_data_processing/option1_scATAC-seq_data_analysis_with_cicero/peak_file.parquet\")\n",
    "peaks.head()"
   ]
  },
  {
   "cell_type": "markdown",
   "metadata": {},
   "source": [
    "# 2. Check data"
   ]
  },
  {
   "cell_type": "code",
   "execution_count": 5,
   "metadata": {},
   "outputs": [
    {
     "name": "stdout",
     "output_type": "stream",
     "text": [
      "Number of peak: 13919\n",
      "Mean peak length: 1756.1744260204082\n"
     ]
    }
   ],
   "source": [
    "# Check data\n",
    "print(f\"Number of peak: {len(peaks.peak_id.unique())}\")\n",
    "\n",
    "def getLength(x):\n",
    "    _, start, end = x[\"peak_id\"].split(\"_\")\n",
    "    return abs(int(end) - int(start))\n",
    "\n",
    "df = peaks.apply(lambda x: getLength(x), axis=1)\n",
    "print(f\"Mean peak length: {df.values.mean()}\")"
   ]
  },
  {
   "cell_type": "markdown",
   "metadata": {},
   "source": [
    "## 2.1. Remove short peaks\n",
    "Short DNA fragment that are less than 5 bases, cannot be used for motif scanning. Therefore, we will remove the short DNA fragments."
   ]
  },
  {
   "cell_type": "code",
   "execution_count": 6,
   "metadata": {},
   "outputs": [],
   "source": [
    "peaks = peaks[df>=5]"
   ]
  },
  {
   "cell_type": "markdown",
   "metadata": {},
   "source": [
    "# 3. Instantiate TFinfo object and search for TF binding motifs\n",
    "The motif analysis module has a custom class; TFinfo. The TFinfo object converts a peak data into a DNA sequences and scans the DNA sequences searching for TF binding motifs. Then, the results of motif scan will be filtered and converted into either a python dictionary or a depending on your preference. This TF information is necessary for GRN inference."
   ]
  },
  {
   "cell_type": "markdown",
   "metadata": {},
   "source": [
    "## 3.1 check reference genome installation"
   ]
  },
  {
   "cell_type": "code",
   "execution_count": 7,
   "metadata": {},
   "outputs": [
    {
     "name": "stdout",
     "output_type": "stream",
     "text": [
      "mm10 installation:  True\n"
     ]
    }
   ],
   "source": [
    "# PLEASE make sure that you are setting correct ref genome.\n",
    "ref_genome = \"mm10\"\n",
    "\n",
    "genome_installation = ma.is_genome_installed(ref_genome=ref_genome)\n",
    "print(ref_genome, \"installation: \", genome_installation)"
   ]
  },
  {
   "cell_type": "markdown",
   "metadata": {},
   "source": [
    "## 3.2. Install reference genome (if refgenome is not installed)"
   ]
  },
  {
   "cell_type": "code",
   "execution_count": 8,
   "metadata": {},
   "outputs": [
    {
     "name": "stdout",
     "output_type": "stream",
     "text": [
      "mm10 is installed.\n"
     ]
    }
   ],
   "source": [
    "if not genome_installation:\n",
    "    import genomepy\n",
    "    genomepy.install_genome(ref_genome, \"UCSC\")\n",
    "else:\n",
    "    print(ref_genome, \"is installed.\")"
   ]
  },
  {
   "cell_type": "markdown",
   "metadata": {},
   "source": [
    "## 3.3. Instantiate TFinfo object"
   ]
  },
  {
   "cell_type": "code",
   "execution_count": 9,
   "metadata": {},
   "outputs": [],
   "source": [
    "# Instantiate TFinfo object\n",
    "tfi = ma.TFinfo(peak_data_frame=peaks, # peak info calculated from ATAC-seq data\n",
    "                ref_genome=ref_genome) "
   ]
  },
  {
   "cell_type": "markdown",
   "metadata": {},
   "source": [
    "# 4. Scan motifs and save object\n",
    "\n",
    "You can set TF binding motif information as an argument: tfi.scan(motifs=motifs)\n",
    "\n",
    "If you don't set motifs or set None, default motifs will be loaded automatically.\n",
    "\n",
    "- For mouse and human, \"gimme.vertebrate.v5.0.\" will be used as a default motifs. \n",
    "- For another species, a species specific TF binding motif data extracted from CisDB ver2.0 will be used.\n",
    "\n"
   ]
  },
  {
   "cell_type": "markdown",
   "metadata": {},
   "source": [
    "## 4.1. [Optional step] Load motifs\n",
    "If you want to use another non-default motifs, you need to load and set the motifs when you scan motifs: tfi.scan(motifs=motifs)\n",
    "    \n",
    "### 4.1.1. [Optional step] Load motif data from gimmemotifs dataset\n",
    "\n",
    "Many other motif databases are included with GimmeMotifs. https://gimmemotifs.readthedocs.io/en/master/overview.html\n",
    "You can load them as follows."
   ]
  },
  {
   "cell_type": "code",
   "execution_count": 10,
   "metadata": {
    "scrolled": false
   },
   "outputs": [
    {
     "data": {
      "text/plain": [
       "['CIS-BP.pfm',\n",
       " 'ENCODE.pfm',\n",
       " 'HOCOMOCOv10_HUMAN.pfm',\n",
       " 'HOCOMOCOv10_MOUSE.pfm',\n",
       " 'HOCOMOCOv11_HUMAN.pfm',\n",
       " 'HOCOMOCOv11_MOUSE.pfm',\n",
       " 'HOMER.pfm',\n",
       " 'IMAGE.pfm',\n",
       " 'JASPAR2018.pfm',\n",
       " 'JASPAR2018_fungi.pfm',\n",
       " 'JASPAR2018_insects.pfm',\n",
       " 'JASPAR2018_nematodes.pfm',\n",
       " 'JASPAR2018_plants.pfm',\n",
       " 'JASPAR2018_urochordates.pfm',\n",
       " 'JASPAR2018_vertebrates.pfm',\n",
       " 'JASPAR2020.pfm',\n",
       " 'JASPAR2020_fungi.pfm',\n",
       " 'JASPAR2020_insects.pfm',\n",
       " 'JASPAR2020_nematodes.pfm',\n",
       " 'JASPAR2020_plants.pfm',\n",
       " 'JASPAR2020_urochordates.pfm',\n",
       " 'JASPAR2020_vertebrates.pfm',\n",
       " 'RSAT_insects.pfm',\n",
       " 'RSAT_plants.pfm',\n",
       " 'RSAT_vertebrates.pfm',\n",
       " 'SwissRegulon.pfm',\n",
       " 'factorbook.pfm',\n",
       " 'gimme.vertebrate.v5.0.pfm']"
      ]
     },
     "execution_count": 10,
     "metadata": {},
     "output_type": "execute_result"
    }
   ],
   "source": [
    "# Get folder path that stores motif data.\n",
    "import os, glob\n",
    "from gimmemotifs.motif import MotifConfig\n",
    "config = MotifConfig()\n",
    "motif_dir = config.get_motif_dir()\n",
    "\n",
    "# Get list for motif data name\n",
    "motifs_data_name = [i for i in os.listdir(motif_dir) if i.endswith(\".pfm\")]\n",
    "motifs_data_name.sort()\n",
    "motifs_data_name"
   ]
  },
  {
   "cell_type": "code",
   "execution_count": 11,
   "metadata": {
    "scrolled": true
   },
   "outputs": [
    {
     "data": {
      "text/plain": [
       "[MA0020.1_Dof2_AAAGCn,\n",
       " MA0021.1_Dof3_AAAGyn,\n",
       " MA0034.1_Gam1_nnyAACCGmC,\n",
       " MA0044.1_HMG-1_sTTGTnyTy,\n",
       " MA0045.1_HMG-I/Y_nwAnAAAnrnmrAmAy,\n",
       " MA0053.1_MNB1A_AAAGC,\n",
       " MA0054.1_myb.Ph3_TAACnGTTw,\n",
       " MA0064.1_PBF_AAAGy,\n",
       " MA0082.1_squamosa_mCAwAwATrGwAAn,\n",
       " MA0096.1_bZIP910_mTGACGT]"
      ]
     },
     "execution_count": 11,
     "metadata": {},
     "output_type": "execute_result"
    }
   ],
   "source": [
    "# You can load motif files with \"read_motifs\"\n",
    "from gimmemotifs.motif import read_motifs\n",
    "\n",
    "path = os.path.join(motif_dir, \"JASPAR2018_plants.pfm\")\n",
    "motifs = read_motifs(path)\n",
    "\n",
    "# Check first 10 motifs\n",
    "motifs[:10]"
   ]
  },
  {
   "cell_type": "markdown",
   "metadata": {},
   "source": [
    "### 4.1.2 [Optional step] Load motif data from celloracle motif dataset\n",
    "\n",
    "Celloracle provides many motif dataset that was generated from CisDB. http://cisbp.ccbr.utoronto.ca/\n",
    "\n",
    "These motifs were organized by each species. Please select motifs for your species."
   ]
  },
  {
   "cell_type": "code",
   "execution_count": 12,
   "metadata": {},
   "outputs": [
    {
     "data": {
      "text/plain": [
       "['CisDB_ver2_Mus_musculus.pfm',\n",
       " 'CisDB_ver2_Saccharomyces_cerevisiae.pfm',\n",
       " 'CisDB_ver2_Danio_rerio.pfm',\n",
       " 'CisDB_ver2_Homo_sapiens.pfm']"
      ]
     },
     "execution_count": 12,
     "metadata": {},
     "output_type": "execute_result"
    }
   ],
   "source": [
    "# Check available motifs\n",
    "ma.MOTIFS_LIST"
   ]
  },
  {
   "cell_type": "code",
   "execution_count": 13,
   "metadata": {
    "scrolled": true
   },
   "outputs": [
    {
     "data": {
      "text/plain": [
       "[M00008_2.00_nnnAAww,\n",
       " M00044_2.00_nrTAAACAn,\n",
       " M00056_2.00_TAATAAAT,\n",
       " M00060_2.00_nnnTTCnnn,\n",
       " M00111_2.00_nGCCynnGGs,\n",
       " M00112_2.00_CCTsrGGCnA,\n",
       " M00113_2.00_nsCCnnAGGs,\n",
       " M00114_2.00_nnGCCynnGG,\n",
       " M00115_2.00_nnATnAAAn,\n",
       " M00116_2.00_nnAATATTAnn]"
      ]
     },
     "execution_count": 13,
     "metadata": {},
     "output_type": "execute_result"
    }
   ],
   "source": [
    "# Load motifs from celloracle dataset.\n",
    "motifs = ma.load_motifs(\"CisDB_ver2_Mus_musculus.pfm\")\n",
    "\n",
    "# Check first 10 motifs\n",
    "motifs[:10]"
   ]
  },
  {
   "cell_type": "markdown",
   "metadata": {},
   "source": [
    "### 4.1.3. [Optional step] Use custom motif data\n",
    "We made a instruction for how to load / make motifs.\n",
    "If you want to use another motifs, Please look into the notebook."
   ]
  },
  {
   "cell_type": "markdown",
   "metadata": {},
   "source": [
    "## 4.2. Motif scan"
   ]
  },
  {
   "cell_type": "code",
   "execution_count": 14,
   "metadata": {
    "scrolled": true
   },
   "outputs": [
    {
     "name": "stdout",
     "output_type": "stream",
     "text": [
      "No motif data entered. Loading default motifs for your species ...\n",
      " Default motif for vertebrate: gimme.vertebrate.v5.0. \n",
      " For more information, please go https://gimmemotifs.readthedocs.io/en/master/overview.html\n",
      "Initiating scanner...\n",
      "Calculating FPR-based threshold. This step may take substantial time when you load new motifs or new ref-genome. It will be done quicker on the second time.\n",
      "Convert peak info into DNA sequences ...\n",
      "Scanning motifs ... It may take several hours if you proccess many peaks.\n"
     ]
    },
    {
     "data": {
      "application/vnd.jupyter.widget-view+json": {
       "model_id": "dcfda90979f649e1b4b6043c4987f171",
       "version_major": 2,
       "version_minor": 0
      },
      "text/plain": [
       "HBox(children=(FloatProgress(value=1.0, bar_style='info', max=1.0), HTML(value='')))"
      ]
     },
     "metadata": {},
     "output_type": "display_data"
    },
    {
     "name": "stdout",
     "output_type": "stream",
     "text": [
      "\n"
     ]
    },
    {
     "ename": "KeyboardInterrupt",
     "evalue": "",
     "output_type": "error",
     "traceback": [
      "\u001b[0;31m---------------------------------------------------------------------------\u001b[0m",
      "\u001b[0;31mKeyboardInterrupt\u001b[0m                         Traceback (most recent call last)",
      "\u001b[0;32m<timed exec>\u001b[0m in \u001b[0;36m<module>\u001b[0;34m\u001b[0m\n",
      "\u001b[0;32m~/anaconda3/envs/pandas1/lib/python3.6/site-packages/celloracle/motif_analysis/tfinfo_core.py\u001b[0m in \u001b[0;36mscan\u001b[0;34m(self, background_length, fpr, n_cpus, verbose, motifs, TF_evidence_level)\u001b[0m\n\u001b[1;32m    341\u001b[0m         \u001b[0mtarget_sequences\u001b[0m \u001b[0;34m=\u001b[0m \u001b[0mpeak2fasta\u001b[0m\u001b[0;34m(\u001b[0m\u001b[0mself\u001b[0m\u001b[0;34m.\u001b[0m\u001b[0mall_peaks\u001b[0m\u001b[0;34m,\u001b[0m \u001b[0mself\u001b[0m\u001b[0;34m.\u001b[0m\u001b[0mref_genome\u001b[0m\u001b[0;34m)\u001b[0m\u001b[0;34m\u001b[0m\u001b[0;34m\u001b[0m\u001b[0m\n\u001b[1;32m    342\u001b[0m         \u001b[0mprint\u001b[0m\u001b[0;34m(\u001b[0m\u001b[0;34m\"Scanning motifs ... It may take several hours if you proccess many peaks.\"\u001b[0m\u001b[0;34m)\u001b[0m\u001b[0;34m\u001b[0m\u001b[0;34m\u001b[0m\u001b[0m\n\u001b[0;32m--> 343\u001b[0;31m         \u001b[0mself\u001b[0m\u001b[0;34m.\u001b[0m\u001b[0mscanned_df\u001b[0m \u001b[0;34m=\u001b[0m \u001b[0mscan_dna_for_motifs\u001b[0m\u001b[0;34m(\u001b[0m\u001b[0ms\u001b[0m\u001b[0;34m,\u001b[0m \u001b[0mmotifs\u001b[0m\u001b[0;34m,\u001b[0m \u001b[0mtarget_sequences\u001b[0m\u001b[0;34m,\u001b[0m \u001b[0mverbose\u001b[0m\u001b[0;34m)\u001b[0m\u001b[0;34m\u001b[0m\u001b[0;34m\u001b[0m\u001b[0m\n\u001b[0m\u001b[1;32m    344\u001b[0m \u001b[0;34m\u001b[0m\u001b[0m\n\u001b[1;32m    345\u001b[0m         \u001b[0mself\u001b[0m\u001b[0;34m.\u001b[0m\u001b[0m__addLog\u001b[0m\u001b[0;34m(\u001b[0m\u001b[0;34m\"scanMotifs\"\u001b[0m\u001b[0;34m)\u001b[0m\u001b[0;34m\u001b[0m\u001b[0;34m\u001b[0m\u001b[0m\n",
      "\u001b[0;32m~/anaconda3/envs/pandas1/lib/python3.6/site-packages/celloracle/motif_analysis/motif_analysis_utility.py\u001b[0m in \u001b[0;36mscan_dna_for_motifs\u001b[0;34m(scanner_object, motifs_object, sequence_object, verbose)\u001b[0m\n\u001b[1;32m    113\u001b[0m     \u001b[0mli\u001b[0m  \u001b[0;34m=\u001b[0m \u001b[0;34m[\u001b[0m\u001b[0;34m]\u001b[0m\u001b[0;34m\u001b[0m\u001b[0;34m\u001b[0m\u001b[0m\n\u001b[1;32m    114\u001b[0m     \u001b[0;32mif\u001b[0m \u001b[0mverbose\u001b[0m\u001b[0;34m:\u001b[0m\u001b[0;34m\u001b[0m\u001b[0;34m\u001b[0m\u001b[0m\n\u001b[0;32m--> 115\u001b[0;31m         \u001b[0;32mfor\u001b[0m \u001b[0mi\u001b[0m\u001b[0;34m,\u001b[0m \u001b[0mresult\u001b[0m \u001b[0;32min\u001b[0m \u001b[0menumerate\u001b[0m\u001b[0;34m(\u001b[0m\u001b[0mtqdm\u001b[0m\u001b[0;34m(\u001b[0m\u001b[0mscanner_object\u001b[0m\u001b[0;34m.\u001b[0m\u001b[0mscan\u001b[0m\u001b[0;34m(\u001b[0m\u001b[0msequence_object\u001b[0m\u001b[0;34m)\u001b[0m\u001b[0;34m)\u001b[0m\u001b[0;34m)\u001b[0m\u001b[0;34m:\u001b[0m\u001b[0;34m\u001b[0m\u001b[0;34m\u001b[0m\u001b[0m\n\u001b[0m\u001b[1;32m    116\u001b[0m             \u001b[0mseqname\u001b[0m \u001b[0;34m=\u001b[0m \u001b[0msequence_object\u001b[0m\u001b[0;34m.\u001b[0m\u001b[0mids\u001b[0m\u001b[0;34m[\u001b[0m\u001b[0mi\u001b[0m\u001b[0;34m]\u001b[0m\u001b[0;34m\u001b[0m\u001b[0;34m\u001b[0m\u001b[0m\n\u001b[1;32m    117\u001b[0m             \u001b[0;32mfor\u001b[0m \u001b[0mm\u001b[0m\u001b[0;34m,\u001b[0m\u001b[0mmatches\u001b[0m \u001b[0;32min\u001b[0m \u001b[0menumerate\u001b[0m\u001b[0;34m(\u001b[0m\u001b[0mresult\u001b[0m\u001b[0;34m)\u001b[0m\u001b[0;34m:\u001b[0m\u001b[0;34m\u001b[0m\u001b[0;34m\u001b[0m\u001b[0m\n",
      "\u001b[0;32m~/anaconda3/envs/pandas1/lib/python3.6/site-packages/tqdm/notebook.py\u001b[0m in \u001b[0;36m__iter__\u001b[0;34m(self, *args, **kwargs)\u001b[0m\n\u001b[1;32m    216\u001b[0m     \u001b[0;32mdef\u001b[0m \u001b[0m__iter__\u001b[0m\u001b[0;34m(\u001b[0m\u001b[0mself\u001b[0m\u001b[0;34m,\u001b[0m \u001b[0;34m*\u001b[0m\u001b[0margs\u001b[0m\u001b[0;34m,\u001b[0m \u001b[0;34m**\u001b[0m\u001b[0mkwargs\u001b[0m\u001b[0;34m)\u001b[0m\u001b[0;34m:\u001b[0m\u001b[0;34m\u001b[0m\u001b[0;34m\u001b[0m\u001b[0m\n\u001b[1;32m    217\u001b[0m         \u001b[0;32mtry\u001b[0m\u001b[0;34m:\u001b[0m\u001b[0;34m\u001b[0m\u001b[0;34m\u001b[0m\u001b[0m\n\u001b[0;32m--> 218\u001b[0;31m             \u001b[0;32mfor\u001b[0m \u001b[0mobj\u001b[0m \u001b[0;32min\u001b[0m \u001b[0msuper\u001b[0m\u001b[0;34m(\u001b[0m\u001b[0mtqdm_notebook\u001b[0m\u001b[0;34m,\u001b[0m \u001b[0mself\u001b[0m\u001b[0;34m)\u001b[0m\u001b[0;34m.\u001b[0m\u001b[0m__iter__\u001b[0m\u001b[0;34m(\u001b[0m\u001b[0;34m*\u001b[0m\u001b[0margs\u001b[0m\u001b[0;34m,\u001b[0m \u001b[0;34m**\u001b[0m\u001b[0mkwargs\u001b[0m\u001b[0;34m)\u001b[0m\u001b[0;34m:\u001b[0m\u001b[0;34m\u001b[0m\u001b[0;34m\u001b[0m\u001b[0m\n\u001b[0m\u001b[1;32m    219\u001b[0m                 \u001b[0;31m# return super(tqdm...) will not catch exception\u001b[0m\u001b[0;34m\u001b[0m\u001b[0;34m\u001b[0m\u001b[0;34m\u001b[0m\u001b[0m\n\u001b[1;32m    220\u001b[0m                 \u001b[0;32myield\u001b[0m \u001b[0mobj\u001b[0m\u001b[0;34m\u001b[0m\u001b[0;34m\u001b[0m\u001b[0m\n",
      "\u001b[0;32m~/anaconda3/envs/pandas1/lib/python3.6/site-packages/tqdm/std.py\u001b[0m in \u001b[0;36m__iter__\u001b[0;34m(self)\u001b[0m\n\u001b[1;32m   1127\u001b[0m \u001b[0;34m\u001b[0m\u001b[0m\n\u001b[1;32m   1128\u001b[0m         \u001b[0;32mtry\u001b[0m\u001b[0;34m:\u001b[0m\u001b[0;34m\u001b[0m\u001b[0;34m\u001b[0m\u001b[0m\n\u001b[0;32m-> 1129\u001b[0;31m             \u001b[0;32mfor\u001b[0m \u001b[0mobj\u001b[0m \u001b[0;32min\u001b[0m \u001b[0miterable\u001b[0m\u001b[0;34m:\u001b[0m\u001b[0;34m\u001b[0m\u001b[0;34m\u001b[0m\u001b[0m\n\u001b[0m\u001b[1;32m   1130\u001b[0m                 \u001b[0;32myield\u001b[0m \u001b[0mobj\u001b[0m\u001b[0;34m\u001b[0m\u001b[0;34m\u001b[0m\u001b[0m\n\u001b[1;32m   1131\u001b[0m                 \u001b[0;31m# Update and possibly print the progressbar.\u001b[0m\u001b[0;34m\u001b[0m\u001b[0;34m\u001b[0m\u001b[0;34m\u001b[0m\u001b[0m\n",
      "\u001b[0;32m~/anaconda3/envs/pandas1/lib/python3.6/site-packages/gimmemotifs/scanner.py\u001b[0m in \u001b[0;36mscan\u001b[0;34m(self, seqs, nreport, scan_rc, zscore, gc)\u001b[0m\n\u001b[1;32m    954\u001b[0m \u001b[0;34m\u001b[0m\u001b[0m\n\u001b[1;32m    955\u001b[0m         \u001b[0mlogger\u001b[0m\u001b[0;34m.\u001b[0m\u001b[0mdebug\u001b[0m\u001b[0;34m(\u001b[0m\u001b[0;34m\"Scanning\"\u001b[0m\u001b[0;34m)\u001b[0m\u001b[0;34m\u001b[0m\u001b[0;34m\u001b[0m\u001b[0m\n\u001b[0;32m--> 956\u001b[0;31m         \u001b[0;32mfor\u001b[0m \u001b[0mresult\u001b[0m\u001b[0;34m,\u001b[0m \u001b[0mgc_seq\u001b[0m \u001b[0;32min\u001b[0m \u001b[0mzip\u001b[0m\u001b[0;34m(\u001b[0m\u001b[0mit\u001b[0m\u001b[0;34m,\u001b[0m \u001b[0mgc_seqs\u001b[0m\u001b[0;34m)\u001b[0m\u001b[0;34m:\u001b[0m\u001b[0;34m\u001b[0m\u001b[0;34m\u001b[0m\u001b[0m\n\u001b[0m\u001b[1;32m    957\u001b[0m             \u001b[0;32mif\u001b[0m \u001b[0mzscore\u001b[0m\u001b[0;34m:\u001b[0m\u001b[0;34m\u001b[0m\u001b[0;34m\u001b[0m\u001b[0m\n\u001b[1;32m    958\u001b[0m                 \u001b[0mzresult\u001b[0m \u001b[0;34m=\u001b[0m \u001b[0;34m[\u001b[0m\u001b[0;34m]\u001b[0m\u001b[0;34m\u001b[0m\u001b[0;34m\u001b[0m\u001b[0m\n",
      "\u001b[0;32m~/anaconda3/envs/pandas1/lib/python3.6/site-packages/gimmemotifs/scanner.py\u001b[0m in \u001b[0;36m_scan_sequences\u001b[0;34m(self, seqs, nreport, scan_rc)\u001b[0m\n\u001b[1;32m   1069\u001b[0m             )\n\u001b[1;32m   1070\u001b[0m \u001b[0;34m\u001b[0m\u001b[0m\n\u001b[0;32m-> 1071\u001b[0;31m             \u001b[0;32mfor\u001b[0m \u001b[0mseq\u001b[0m\u001b[0;34m,\u001b[0m \u001b[0mret\u001b[0m \u001b[0;32min\u001b[0m \u001b[0mself\u001b[0m\u001b[0;34m.\u001b[0m\u001b[0m_scan_jobs\u001b[0m\u001b[0;34m(\u001b[0m\u001b[0mscan_func\u001b[0m\u001b[0;34m,\u001b[0m \u001b[0mscan_seqs\u001b[0m\u001b[0;34m)\u001b[0m\u001b[0;34m:\u001b[0m\u001b[0;34m\u001b[0m\u001b[0;34m\u001b[0m\u001b[0m\n\u001b[0m\u001b[1;32m   1072\u001b[0m                 \u001b[0;32mif\u001b[0m \u001b[0mself\u001b[0m\u001b[0;34m.\u001b[0m\u001b[0muse_cache\u001b[0m\u001b[0;34m:\u001b[0m\u001b[0;34m\u001b[0m\u001b[0;34m\u001b[0m\u001b[0m\n\u001b[1;32m   1073\u001b[0m                     \u001b[0mh\u001b[0m \u001b[0;34m=\u001b[0m \u001b[0mhashes\u001b[0m\u001b[0;34m[\u001b[0m\u001b[0mseq\u001b[0m\u001b[0;34m]\u001b[0m\u001b[0;34m\u001b[0m\u001b[0;34m\u001b[0m\u001b[0m\n",
      "\u001b[0;32m~/anaconda3/envs/pandas1/lib/python3.6/site-packages/gimmemotifs/scanner.py\u001b[0m in \u001b[0;36m_scan_jobs\u001b[0;34m(self, scan_func, scan_seqs)\u001b[0m\n\u001b[1;32m   1119\u001b[0m             \u001b[0;32mfor\u001b[0m \u001b[0mi\u001b[0m \u001b[0;32min\u001b[0m \u001b[0mrange\u001b[0m\u001b[0;34m(\u001b[0m\u001b[0;34m(\u001b[0m\u001b[0mlen\u001b[0m\u001b[0;34m(\u001b[0m\u001b[0mscan_seqs\u001b[0m\u001b[0;34m)\u001b[0m \u001b[0;34m-\u001b[0m \u001b[0;36m1\u001b[0m\u001b[0;34m)\u001b[0m \u001b[0;34m//\u001b[0m \u001b[0mbatchsize\u001b[0m \u001b[0;34m+\u001b[0m \u001b[0;36m1\u001b[0m\u001b[0;34m)\u001b[0m\u001b[0;34m:\u001b[0m\u001b[0;34m\u001b[0m\u001b[0;34m\u001b[0m\u001b[0m\n\u001b[1;32m   1120\u001b[0m                 for _j, ret in enumerate(\n\u001b[0;32m-> 1121\u001b[0;31m                     \u001b[0mscan_func\u001b[0m\u001b[0;34m(\u001b[0m\u001b[0mscan_seqs\u001b[0m\u001b[0;34m[\u001b[0m\u001b[0mi\u001b[0m \u001b[0;34m*\u001b[0m \u001b[0mbatchsize\u001b[0m \u001b[0;34m:\u001b[0m \u001b[0;34m(\u001b[0m\u001b[0mi\u001b[0m \u001b[0;34m+\u001b[0m \u001b[0;36m1\u001b[0m\u001b[0;34m)\u001b[0m \u001b[0;34m*\u001b[0m \u001b[0mbatchsize\u001b[0m\u001b[0;34m]\u001b[0m\u001b[0;34m)\u001b[0m\u001b[0;34m\u001b[0m\u001b[0;34m\u001b[0m\u001b[0m\n\u001b[0m\u001b[1;32m   1122\u001b[0m                 ):\n\u001b[1;32m   1123\u001b[0m                     \u001b[0;32myield\u001b[0m \u001b[0mscan_seqs\u001b[0m\u001b[0;34m[\u001b[0m\u001b[0mi\u001b[0m\u001b[0;34m]\u001b[0m\u001b[0;34m,\u001b[0m \u001b[0mret\u001b[0m\u001b[0;34m\u001b[0m\u001b[0;34m\u001b[0m\u001b[0m\n",
      "\u001b[0;32m~/anaconda3/envs/pandas1/lib/python3.6/site-packages/gimmemotifs/scanner.py\u001b[0m in \u001b[0;36mscan_seq_mult\u001b[0;34m(seqs, motifs, nreport, scan_rc)\u001b[0m\n\u001b[1;32m    400\u001b[0m     \u001b[0mret\u001b[0m \u001b[0;34m=\u001b[0m \u001b[0;34m[\u001b[0m\u001b[0;34m]\u001b[0m\u001b[0;34m\u001b[0m\u001b[0;34m\u001b[0m\u001b[0m\n\u001b[1;32m    401\u001b[0m     \u001b[0;32mfor\u001b[0m \u001b[0mseq\u001b[0m \u001b[0;32min\u001b[0m \u001b[0mseqs\u001b[0m\u001b[0;34m:\u001b[0m\u001b[0;34m\u001b[0m\u001b[0;34m\u001b[0m\u001b[0m\n\u001b[0;32m--> 402\u001b[0;31m         \u001b[0mresult\u001b[0m \u001b[0;34m=\u001b[0m \u001b[0mscan_sequence\u001b[0m\u001b[0;34m(\u001b[0m\u001b[0mseq\u001b[0m\u001b[0;34m.\u001b[0m\u001b[0mupper\u001b[0m\u001b[0;34m(\u001b[0m\u001b[0;34m)\u001b[0m\u001b[0;34m,\u001b[0m \u001b[0mmotifs\u001b[0m\u001b[0;34m,\u001b[0m \u001b[0mnreport\u001b[0m\u001b[0;34m,\u001b[0m \u001b[0mscan_rc\u001b[0m\u001b[0;34m)\u001b[0m\u001b[0;34m\u001b[0m\u001b[0;34m\u001b[0m\u001b[0m\n\u001b[0m\u001b[1;32m    403\u001b[0m         \u001b[0mret\u001b[0m\u001b[0;34m.\u001b[0m\u001b[0mappend\u001b[0m\u001b[0;34m(\u001b[0m\u001b[0mresult\u001b[0m\u001b[0;34m)\u001b[0m\u001b[0;34m\u001b[0m\u001b[0;34m\u001b[0m\u001b[0m\n\u001b[1;32m    404\u001b[0m     \u001b[0;32mreturn\u001b[0m \u001b[0mret\u001b[0m\u001b[0;34m\u001b[0m\u001b[0;34m\u001b[0m\u001b[0m\n",
      "\u001b[0;32m~/anaconda3/envs/pandas1/lib/python3.6/site-packages/gimmemotifs/scanner.py\u001b[0m in \u001b[0;36mscan_sequence\u001b[0;34m(seq, motifs, nreport, scan_rc)\u001b[0m\n\u001b[1;32m    379\u001b[0m             \u001b[0mret\u001b[0m\u001b[0;34m.\u001b[0m\u001b[0mappend\u001b[0m\u001b[0;34m(\u001b[0m\u001b[0;34m[\u001b[0m\u001b[0;34m]\u001b[0m\u001b[0;34m)\u001b[0m\u001b[0;34m\u001b[0m\u001b[0;34m\u001b[0m\u001b[0m\n\u001b[1;32m    380\u001b[0m         \u001b[0;32melse\u001b[0m\u001b[0;34m:\u001b[0m\u001b[0;34m\u001b[0m\u001b[0;34m\u001b[0m\u001b[0m\n\u001b[0;32m--> 381\u001b[0;31m             \u001b[0mresult\u001b[0m \u001b[0;34m=\u001b[0m \u001b[0mpwmscan\u001b[0m\u001b[0;34m(\u001b[0m\u001b[0mseq\u001b[0m\u001b[0;34m,\u001b[0m \u001b[0mmotif\u001b[0m\u001b[0;34m.\u001b[0m\u001b[0mlogodds\u001b[0m\u001b[0;34m,\u001b[0m \u001b[0mcutoff\u001b[0m\u001b[0;34m,\u001b[0m \u001b[0mnreport\u001b[0m\u001b[0;34m,\u001b[0m \u001b[0mscan_rc\u001b[0m\u001b[0;34m)\u001b[0m\u001b[0;34m\u001b[0m\u001b[0;34m\u001b[0m\u001b[0m\n\u001b[0m\u001b[1;32m    382\u001b[0m             \u001b[0;32mif\u001b[0m \u001b[0mcutoff\u001b[0m \u001b[0;34m<=\u001b[0m \u001b[0mmotif\u001b[0m\u001b[0;34m.\u001b[0m\u001b[0mpwm_min_score\u001b[0m\u001b[0;34m(\u001b[0m\u001b[0;34m)\u001b[0m \u001b[0;32mand\u001b[0m \u001b[0mlen\u001b[0m\u001b[0;34m(\u001b[0m\u001b[0mresult\u001b[0m\u001b[0;34m)\u001b[0m \u001b[0;34m==\u001b[0m \u001b[0;36m0\u001b[0m\u001b[0;34m:\u001b[0m\u001b[0;34m\u001b[0m\u001b[0;34m\u001b[0m\u001b[0m\n\u001b[1;32m    383\u001b[0m                 \u001b[0mresult\u001b[0m \u001b[0;34m=\u001b[0m \u001b[0;34m[\u001b[0m\u001b[0;34m[\u001b[0m\u001b[0mmotif\u001b[0m\u001b[0;34m.\u001b[0m\u001b[0mpwm_min_score\u001b[0m\u001b[0;34m(\u001b[0m\u001b[0;34m)\u001b[0m\u001b[0;34m,\u001b[0m \u001b[0;36m0\u001b[0m\u001b[0;34m,\u001b[0m \u001b[0;36m1\u001b[0m\u001b[0;34m]\u001b[0m\u001b[0;34m]\u001b[0m \u001b[0;34m*\u001b[0m \u001b[0mnreport\u001b[0m\u001b[0;34m\u001b[0m\u001b[0;34m\u001b[0m\u001b[0m\n",
      "\u001b[0;31mKeyboardInterrupt\u001b[0m: "
     ]
    }
   ],
   "source": [
    "%%time\n",
    "# Scan motifs. !!CAUTION!! This step may take several hours if you have many peaks!\n",
    "tfi.scan(fpr=0.02, \n",
    "            motifs=None,  # If you enter None, default motifs will be loaded.\n",
    "            verbose=True)\n",
    "\n",
    "# Save tfinfo object\n",
    "tfi.to_hdf5(file_path=\"test1.celloracle.tfinfo\")"
   ]
  },
  {
   "cell_type": "code",
   "execution_count": 15,
   "metadata": {},
   "outputs": [
    {
     "ename": "AttributeError",
     "evalue": "'NoneType' object has no attribute 'head'",
     "output_type": "error",
     "traceback": [
      "\u001b[0;31m---------------------------------------------------------------------------\u001b[0m",
      "\u001b[0;31mAttributeError\u001b[0m                            Traceback (most recent call last)",
      "\u001b[0;32m<ipython-input-15-f532dfb93ec7>\u001b[0m in \u001b[0;36m<module>\u001b[0;34m\u001b[0m\n\u001b[1;32m      1\u001b[0m \u001b[0;31m# Check motif scan results\u001b[0m\u001b[0;34m\u001b[0m\u001b[0;34m\u001b[0m\u001b[0;34m\u001b[0m\u001b[0m\n\u001b[0;32m----> 2\u001b[0;31m \u001b[0mtfi\u001b[0m\u001b[0;34m.\u001b[0m\u001b[0mscanned_df\u001b[0m\u001b[0;34m.\u001b[0m\u001b[0mhead\u001b[0m\u001b[0;34m(\u001b[0m\u001b[0;34m)\u001b[0m\u001b[0;34m\u001b[0m\u001b[0;34m\u001b[0m\u001b[0m\n\u001b[0m",
      "\u001b[0;31mAttributeError\u001b[0m: 'NoneType' object has no attribute 'head'"
     ]
    }
   ],
   "source": [
    "# Check motif scan results\n",
    "tfi.scanned_df.head()"
   ]
  },
  {
   "cell_type": "markdown",
   "metadata": {},
   "source": [
    "We have the score for each sequence and motif_id pair.\n",
    "In the next step we will filter the motifs with low score."
   ]
  },
  {
   "cell_type": "markdown",
   "metadata": {},
   "source": [
    "# 5. Filtering motifs"
   ]
  },
  {
   "cell_type": "code",
   "execution_count": null,
   "metadata": {},
   "outputs": [],
   "source": [
    "# Reset filtering \n",
    "tfi.reset_filtering()\n",
    "\n",
    "# Do filtering\n",
    "tfi.filter_motifs_by_score(threshold=10.5)\n",
    "\n",
    "# Do post filtering process. Convert results into several file format.\n",
    "tfi.make_TFinfo_dataframe_and_dictionary(verbose=True)\n",
    "\n"
   ]
  },
  {
   "cell_type": "markdown",
   "metadata": {},
   "source": [
    "# 6. Get Final results"
   ]
  },
  {
   "cell_type": "markdown",
   "metadata": {},
   "source": [
    "## 6.1. Get resutls as a dictionary"
   ]
  },
  {
   "cell_type": "code",
   "execution_count": null,
   "metadata": {
    "scrolled": false
   },
   "outputs": [],
   "source": [
    "td = tfi.to_dictionary(dictionary_type=\"targetgene2TFs\")\n"
   ]
  },
  {
   "cell_type": "markdown",
   "metadata": {},
   "source": [
    "## 6.2. Get results as a dataframe"
   ]
  },
  {
   "cell_type": "code",
   "execution_count": null,
   "metadata": {},
   "outputs": [],
   "source": [
    "df = tfi.to_dataframe()\n",
    "df.head()"
   ]
  },
  {
   "cell_type": "markdown",
   "metadata": {},
   "source": [
    "# 7. Save TFinfo as dictionary or dataframe\n",
    "We'll use this information when making the GRNs. Save the results."
   ]
  },
  {
   "cell_type": "code",
   "execution_count": null,
   "metadata": {},
   "outputs": [],
   "source": [
    "folder = \"TFinfo_outputs\"\n",
    "os.makedirs(folder, exist_ok=True)\n",
    "\n",
    "# save TFinfo as a dictionary\n",
    "td = tfi.to_dictionary(dictionary_type=\"targetgene2TFs\")\n",
    "save_as_pickled_object(td, os.path.join(folder, \"TFinfo_targetgene2TFs.pickled\"))\n",
    "\n",
    "# save TFinfo as a dataframe\n",
    "df = tfi.to_dataframe()\n",
    "df.to_parquet(os.path.join(folder, \"TFinfo_dataframe.parquet\"))"
   ]
  },
  {
   "cell_type": "code",
   "execution_count": null,
   "metadata": {},
   "outputs": [],
   "source": []
  }
 ],
 "metadata": {
  "kernelspec": {
   "display_name": "Python 3",
   "language": "python",
   "name": "python3"
  },
  "language_info": {
   "codemirror_mode": {
    "name": "ipython",
    "version": 3
   },
   "file_extension": ".py",
   "mimetype": "text/x-python",
   "name": "python",
   "nbconvert_exporter": "python",
   "pygments_lexer": "ipython3",
   "version": "3.6.10"
  },
  "varInspector": {
   "cols": {
    "lenName": 16,
    "lenType": 16,
    "lenVar": 40
   },
   "kernels_config": {
    "python": {
     "delete_cmd_postfix": "",
     "delete_cmd_prefix": "del ",
     "library": "var_list.py",
     "varRefreshCmd": "print(var_dic_list())"
    },
    "r": {
     "delete_cmd_postfix": ") ",
     "delete_cmd_prefix": "rm(",
     "library": "var_list.r",
     "varRefreshCmd": "cat(var_dic_list()) "
    }
   },
   "types_to_exclude": [
    "module",
    "function",
    "builtin_function_or_method",
    "instance",
    "_Feature"
   ],
   "window_display": false
  }
 },
 "nbformat": 4,
 "nbformat_minor": 2
}
